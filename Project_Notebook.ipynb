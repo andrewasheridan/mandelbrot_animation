{
 "cells": [
  {
   "cell_type": "markdown",
   "metadata": {},
   "source": [
    "This notebook may take some time to finish running, depending on the setttings. \n",
    "\n",
    "At 4k and with `fibonacci_steps = [1, 2, 3, 5, 8, 13, 21, 34, 55, 89, 144, 199]`\n",
    "\n",
    "A 2015 12\" MacBook 1.1 (Turbo 1.9) GHz Intel Core M processor and 8 GB 1600 MHz DDR3 RAM required ~3 hours to run this notebook. \n",
    "\n",
    "The running notebook maintained ~20 GB RAM usage (thank you swap file and fast storage!) and commanded the majority of the CPU while running.\n",
    "\n",
    "2675 individual png images are generated which total ~5 GB storage. \n",
    "\n",
    "\n",
    "\n",
    "\n",
    "> For the shorter animation with`fibonacci_steps = [199]` this notebook only takes about 15 minutes to finish.\n"
   ]
  },
  {
   "cell_type": "markdown",
   "metadata": {},
   "source": [
    "# Requirements:\n",
    "\n",
    ">`python > 3.7` (not tested in python < 3.7\n",
    "\n",
    ">`matplotlib > 3`\n",
    "\n",
    ">`numpy > 15`\n",
    "\n",
    ">`colorcet` https://github.com/pyviz/colorcet\n",
    "\n",
    "> `ffmpeg`\n"
   ]
  },
  {
   "cell_type": "code",
   "execution_count": 1,
   "metadata": {},
   "outputs": [],
   "source": [
    "import sys\n",
    "import colorcet as cc\n",
    "import numpy as np\n",
    "import matplotlib\n",
    "import matplotlib.pyplot as plt\n",
    "\n",
    "from matplotlib import cm\n",
    "from typing import Dict, Tuple, List, Iterator\n",
    "\n",
    "%config InlineBackend.figure_format = 'retina'\n",
    "np.warnings.filterwarnings(\"ignore\")\n"
   ]
  },
  {
   "cell_type": "code",
   "execution_count": 2,
   "metadata": {},
   "outputs": [],
   "source": [
    "def get_bounds_for_coordinate_and_width(\n",
    "    x: float = -1.0, y: float = 0.0, width=2.5\n",
    ") -> Tuple[Tuple[float], Tuple[float]]:\n",
    "    \"\"\"Provides a square window around a point (x, y)\n",
    "    \"\"\"\n",
    "\n",
    "    x_bounds = x - width / 2, x + width / 2\n",
    "    y_bounds = y - width / 2, y + width / 2\n",
    "\n",
    "    return x_bounds, y_bounds\n"
   ]
  },
  {
   "cell_type": "code",
   "execution_count": 3,
   "metadata": {},
   "outputs": [],
   "source": [
    "def mandlebrot_set_generator(\n",
    "    real_bounds: Tuple[float] = (-2.0, 0.5),\n",
    "    imag_bounds: Tuple[float] = (-1.5, 1.5),\n",
    "    real_count: int = 1000,\n",
    "    imag_count: int = 1000,\n",
    "    z_max: int = 50,\n",
    "    iterations_max: int = 200,\n",
    "    result_only: bool = True,\n",
    "    verbose: bool = True,\n",
    "    comparison: str = 'real',\n",
    ") -> np.ndarray:\n",
    "    \"\"\"Compute the mandlebrot set Z = Z*Z + C\n",
    "    \n",
    "    Parameters\n",
    "    ----------\n",
    "    real_bounds : Tuple[float], optional\n",
    "        Real min, real max.\n",
    "    imag_bounds : Tuple[float], optional\n",
    "        Imaginary min, imaginary max.\n",
    "    real_count : int, optional\n",
    "        Number of real values.\n",
    "    imag_count : int, optional\n",
    "        Number of imaginary values.\n",
    "    z_max : int, optional\n",
    "        Maximum allowed z value. Values above this are considered to have blown up.\n",
    "    iterations_max : int, optional\n",
    "        Number of iterations to compute. Also used in computations.\n",
    "    result_only :bool, optional\n",
    "        True returns only the last iteration, False returns all iterations\n",
    "    comparison :str, optional\n",
    "        'real', 'imag', 'norm' - what each points value is taken to be (real component, imag, or the euclidean norm)\n",
    "        imag/real adds 'veins' to the leafs, 'norm' merges leafs\n",
    "    Returns\n",
    "    -------\n",
    "    np.ndarray\n",
    "        if result_only: \n",
    "            2D array of the last iteration\n",
    "        else:\n",
    "            3D array with all iterations\n",
    "    \"\"\"\n",
    "\n",
    "    image = np.ones((imag_count, real_count)) * iterations_max\n",
    "\n",
    "    if not result_only:\n",
    "        image_stack = np.zeros(\n",
    "            (iterations_max, imag_count, real_count), dtype=np.float128\n",
    "        )\n",
    "\n",
    "    reals = np.linspace(*real_bounds, real_count)\n",
    "    imags = np.linspace(*imag_bounds, imag_count)\n",
    "\n",
    "    R, I = np.meshgrid(reals, imags)\n",
    "    C = R + 1j * I\n",
    "\n",
    "    Z = np.zeros((imag_count, real_count), dtype=np.complex256)\n",
    "\n",
    "    for iteration in range(1, iterations_max):\n",
    "        if verbose:\n",
    "            sys.stdout.write(\"\\r{:0{:}d}/{}\".format(iteration + 1, len(str(abs(iterations_max))), iterations_max))\n",
    "\n",
    "        if comparison == 'real':\n",
    "            good_vals = Z.imag <= z_max\n",
    "            \n",
    "        elif comparison == 'imag':\n",
    "            good_vals = Z.real <= z_max\n",
    "            \n",
    "        elif comparison == 'norm':\n",
    "            good_vals = np.abs(Z) <= z_max\n",
    "            \n",
    "        Z[good_vals] = C[good_vals] + Z[good_vals] * Z[good_vals]\n",
    "        image[good_vals] = iteration\n",
    "\n",
    "        if not result_only:\n",
    "            image_stack[iteration] = image\n",
    "\n",
    "    if result_only:\n",
    "        return image\n",
    "    else:\n",
    "        return image_stack\n"
   ]
  },
  {
   "cell_type": "code",
   "execution_count": 4,
   "metadata": {},
   "outputs": [],
   "source": [
    "def image_to_image_stack_by_values(\n",
    "    image: np.ndarray, start: int, stop: int, delta: int, clip: int\n",
    ") -> np.ndarray:\n",
    "    \"\"\"Break a single image into many based on contour values.\n",
    "    TODO: Come up with a better description... \n",
    "    \n",
    "    Args:\n",
    "        image (np.ndarray): Description\n",
    "        start (int): Description\n",
    "        stop (int): Description\n",
    "        delta (int): Description\n",
    "        clip (int): Description\n",
    "    \"\"\"\n",
    "    image_stack = []\n",
    "#     for i in range(start, stop - delta):\n",
    "    for i in range(start - delta, stop):\n",
    "\n",
    "\n",
    "        low = i\n",
    "        high = low + delta\n",
    "\n",
    "        modified = np.copy(image)\n",
    "        modified[modified > high] = clip\n",
    "        modified[modified <= low] = clip\n",
    "        image_stack.append(modified)\n",
    "\n",
    "    return image_stack\n"
   ]
  },
  {
   "cell_type": "code",
   "execution_count": 5,
   "metadata": {},
   "outputs": [],
   "source": [
    "def figure_without_frame(\n",
    "    width: float = 5, height: float = 5, dpi: int = 300\n",
    ") -> Tuple[matplotlib.figure.Figure, matplotlib.axes.SubplotBase]:\n",
    "    \"\"\"Setup a figure with no frame, axes, or ticks.\n",
    "    \n",
    "    Parameters\n",
    "    ----------\n",
    "    width : float, optional\n",
    "        Figure width in inches.\n",
    "    height : float, optional\n",
    "        Figure height in inches.\n",
    "    dpi : int, optional\n",
    "        Pixels per inch\n",
    "    \n",
    "    Returns\n",
    "    -------\n",
    "    matplotlib.figure.Figure, matplotlib.axes.SubplotBase\n",
    "        fig, ax\n",
    "    \"\"\"\n",
    "    fig = plt.figure(frameon=False, dpi=dpi)\n",
    "    fig.set_size_inches(w=width, h=height)\n",
    "\n",
    "    ax = plt.Axes(fig, [0., 0., 1., 1.])\n",
    "    ax.set_axis_off()\n",
    "\n",
    "    fig.add_axes(ax)\n",
    "\n",
    "    return fig, ax\n"
   ]
  },
  {
   "cell_type": "code",
   "execution_count": 6,
   "metadata": {},
   "outputs": [],
   "source": [
    "def render_image_by_contour_steps(\n",
    "    image: np.ndarray,\n",
    "    contour_steps: List[int],\n",
    "    directory: str,\n",
    "    file_prefix: str,\n",
    "    extent: Tuple[int, int, int, int],\n",
    "    height: float,\n",
    "    width: float,\n",
    "    dpi: int,\n",
    "    verbose: bool = True,\n",
    ") -> None:\n",
    "    \"\"\"Given an image, break it into contours given by contour_steps and render each as a png\"\"\"\n",
    "\n",
    "    for delta in contour_steps:\n",
    "\n",
    "        stack = image_to_image_stack_by_values(\n",
    "            image, int(np.min(image)), int(np.max(image)), delta, int(np.max(image))\n",
    "        )\n",
    "\n",
    "        fig, ax = figure_without_frame(width=width, height=height, dpi=dpi)\n",
    "        norm = cm.colors.Normalize(vmin=np.min(image), vmax=np.max(image) + 1)\n",
    "\n",
    "        imshow = ax.imshow(stack[0], cmap=cc.m_fire, norm=norm, extent=extent)\n",
    "\n",
    "        for k in range(len(stack)):\n",
    "            number_of_digits = len(str(len(stack)))\n",
    "            file_number = \"{:0{:}d}_{:0{:}d}\".format(\n",
    "                delta, number_of_digits, k, number_of_digits\n",
    "            )\n",
    "\n",
    "            if verbose:\n",
    "\n",
    "                sys.stdout.write(\"\\r\" + file_number)\n",
    "\n",
    "            imshow.set_data(stack[k])\n",
    "            fig.savefig(\n",
    "                directory + \"/\" + file_prefix + \"_\" + file_number + \".png\", dpi=\"figure\"\n",
    "            )\n",
    "    plt.close(fig)\n",
    "            \n",
    "    return None\n"
   ]
  },
  {
   "cell_type": "code",
   "execution_count": 7,
   "metadata": {},
   "outputs": [],
   "source": [
    "def fibonacci_generator(\n",
    "    a: int = -1, b: int = 1, stop: int = 200\n",
    ") -> Iterator[int]:\n",
    "\n",
    "    while a + b < stop:\n",
    "        a, b = b, a + b\n",
    "\n",
    "        yield b\n"
   ]
  },
  {
   "cell_type": "code",
   "execution_count": 8,
   "metadata": {},
   "outputs": [
    {
     "data": {
      "text/plain": [
       "3840"
      ]
     },
     "execution_count": 8,
     "metadata": {},
     "output_type": "execute_result"
    }
   ],
   "source": [
    "real_bounds = -0.7794302918017602 + 0.00054, -0.7891570171375637- 0.00059 # adjustment to get to 4k resolution\n",
    "\n",
    "imag_bounds = 0.14489532190829088, 0.151\n",
    "imag_count = 2160\n",
    "\n",
    "height_to_width_ratio = abs(np.diff(real_bounds) / np.diff(imag_bounds) )[0]\n",
    "\n",
    "# to make the sure the pixels are square\n",
    "real_count = int(imag_count * height_to_width_ratio)\n",
    "\n",
    "# make sure its an even number\n",
    "while real_count % 10 != 0:\n",
    "    real_count -= 1\n",
    "real_count"
   ]
  },
  {
   "cell_type": "code",
   "execution_count": 13,
   "metadata": {},
   "outputs": [],
   "source": [
    "iterations_max = 200"
   ]
  },
  {
   "cell_type": "code",
   "execution_count": 14,
   "metadata": {},
   "outputs": [
    {
     "name": "stdout",
     "output_type": "stream",
     "text": [
      "200/200"
     ]
    }
   ],
   "source": [
    "interesting_set = mandlebrot_set_generator(real_bounds=real_bounds, imag_bounds=imag_bounds, real_count=real_count, imag_count=imag_count, iterations_max=iterations_max)"
   ]
  },
  {
   "cell_type": "code",
   "execution_count": 15,
   "metadata": {},
   "outputs": [
    {
     "data": {
      "text/plain": [
       "[1, 2, 3, 5, 8, 13, 21, 34, 55, 89, 144]"
      ]
     },
     "execution_count": 15,
     "metadata": {},
     "output_type": "execute_result"
    }
   ],
   "source": [
    "fibonacci_steps = [i for i in fibonacci_generator(0,1)]\n",
    "fibonacci_steps"
   ]
  },
  {
   "cell_type": "code",
   "execution_count": 16,
   "metadata": {},
   "outputs": [
    {
     "data": {
      "text/plain": [
       "[1, 2, 3, 5, 8, 13, 21, 34, 55, 89, 144, 199]"
      ]
     },
     "execution_count": 16,
     "metadata": {},
     "output_type": "execute_result"
    }
   ],
   "source": [
    "fibonacci_steps.append(iterations_max - 1)\n",
    "fibonacci_steps"
   ]
  },
  {
   "cell_type": "markdown",
   "metadata": {},
   "source": [
    "# NOTE:\n",
    "the above set of steps create a movie that is extremely long. The list below will generate a far shorter animation. \n",
    "\n",
    "Comment out the cell below to generate the full animation."
   ]
  },
  {
   "cell_type": "code",
   "execution_count": 1,
   "metadata": {},
   "outputs": [],
   "source": [
    "fibonacci_steps = [199]"
   ]
  },
  {
   "cell_type": "code",
   "execution_count": 20,
   "metadata": {},
   "outputs": [],
   "source": [
    "extent = [*real_bounds, *imag_bounds]"
   ]
  },
  {
   "cell_type": "code",
   "execution_count": 22,
   "metadata": {},
   "outputs": [
    {
     "data": {
      "text/plain": [
       "(7.2, 12.8)"
      ]
     },
     "execution_count": 22,
     "metadata": {},
     "output_type": "execute_result"
    }
   ],
   "source": [
    "dpi = 300\n",
    "height = imag_count / dpi \n",
    "width = real_count / dpi\n",
    "height, width"
   ]
  },
  {
   "cell_type": "code",
   "execution_count": 23,
   "metadata": {},
   "outputs": [
    {
     "name": "stdout",
     "output_type": "stream",
     "text": [
      "199_373"
     ]
    }
   ],
   "source": [
    "render_image_by_contour_steps(\n",
    "    image=interesting_set,\n",
    "    contour_steps=fibonacci_steps,\n",
    "    directory=\"project_animation_fire_v3\",\n",
    "    file_prefix=\"mandelbrot\",\n",
    "    extent=extent,\n",
    "    width=width,\n",
    "    height=height, \n",
    "    dpi=dpi\n",
    ")"
   ]
  },
  {
   "cell_type": "markdown",
   "metadata": {},
   "source": [
    "# Generate the animation:"
   ]
  },
  {
   "cell_type": "markdown",
   "metadata": {},
   "source": [
    "In terminal navigate to the directory with the images and run this single line command:"
   ]
  },
  {
   "cell_type": "markdown",
   "metadata": {},
   "source": [
    "**For the long `fibonacci_steps = [1, 2, 3, 5, 8, 13, 21, 34, 55, 89, 144, 199]` animation, at 4k**\n",
    "\n",
    "`ffmpeg -framerate 60 -pattern_type glob -i \"mandelbrot_*.png\" -s:v 3840x2160 -c:v libx264 -preset slow -profile:v high -crf 17 -coder 1 -pix_fmt yuv420p -movflags +faststart animation.mp4`"
   ]
  },
  {
   "cell_type": "markdown",
   "metadata": {},
   "source": [
    "**For the short `fibonacci_steps = [199]` animation, at 1080p**\n",
    "\n",
    "`ffmpeg -framerate 60 -pattern_type glob -i \"mandelbrot_*.png\" -s:v 1920x1080 -c:v libx264 -preset slow -profile:v high -crf 17 -coder 1 -pix_fmt yuv420p -movflags +faststart animation1080p.mp4`"
   ]
  },
  {
   "cell_type": "markdown",
   "metadata": {},
   "source": [
    "## To generate the gif:"
   ]
  },
  {
   "cell_type": "markdown",
   "metadata": {},
   "source": [
    "**first generate a pallete**\n",
    "\n",
    "`ffmpeg -y -i animation1080p.mp4 -vf fps=60,scale=1920:-1:flags=lanczos,palettegen palette1080.png`\n",
    "\n",
    "**then use the pallete to generate the gif**\n",
    "\n",
    "`ffmpeg -i animation1080p.mp4 -i palette1080.png -filter_complex \"fps=30,scale=1920:-1:flags=lanczos[x];[x][1:v]paletteuse\" output1080_30.gif`"
   ]
  },
  {
   "cell_type": "markdown",
   "metadata": {},
   "source": [
    "**ffmpeg notes**"
   ]
  },
  {
   "cell_type": "markdown",
   "metadata": {},
   "source": [
    "`-framerate 60 -pattern_type glob -i \"mandelbrot_*.png\"` set the input to be the files in the current directory that with filenames that start with `mandelbrot_` and end with `.png`, use `glob` to collect all those filenames and place thin alphanumeric order, nd take the input to be 60 frames per second."
   ]
  },
  {
   "cell_type": "markdown",
   "metadata": {},
   "source": [
    "`-s:v 3840x2160` set the frame size of the stream"
   ]
  },
  {
   "cell_type": "markdown",
   "metadata": {},
   "source": [
    "`-c:v libx264` set the codec of the video stream to be `libx264`"
   ]
  },
  {
   "cell_type": "markdown",
   "metadata": {},
   "source": [
    "`-preset slow` encoding speed vs compression ratio.  `faster,fast, medium, slow, slower, veryslow` more time makes for better compression."
   ]
  },
  {
   "cell_type": "markdown",
   "metadata": {},
   "source": [
    "`-profile:v high` H.264 profile setting = `high`"
   ]
  },
  {
   "cell_type": "markdown",
   "metadata": {},
   "source": [
    "`-crf 17` Constant Rate Factor `0 - 51`, exponential, `0` = lossless encoding, `17 - 28` is \"acceptable\""
   ]
  },
  {
   "cell_type": "markdown",
   "metadata": {},
   "source": [
    "`-coder 1` ???"
   ]
  },
  {
   "cell_type": "markdown",
   "metadata": {},
   "source": [
    "`-movflags +faststart` If video to be viewed in a browser (allows playing before video is fully downloaded)."
   ]
  },
  {
   "cell_type": "code",
   "execution_count": null,
   "metadata": {},
   "outputs": [],
   "source": []
  }
 ],
 "metadata": {
  "kernelspec": {
   "display_name": "Python 3",
   "language": "python",
   "name": "python3"
  },
  "language_info": {
   "codemirror_mode": {
    "name": "ipython",
    "version": 3
   },
   "file_extension": ".py",
   "mimetype": "text/x-python",
   "name": "python",
   "nbconvert_exporter": "python",
   "pygments_lexer": "ipython3",
   "version": "3.7.1"
  }
 },
 "nbformat": 4,
 "nbformat_minor": 2
}
